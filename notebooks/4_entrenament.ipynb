{
 "cells": [
  {
   "cell_type": "markdown",
   "metadata": {},
   "source": [
    "# 🧠 4. Entrenament del model – DWTFormer\n",
    "\n",
    "Aquest notebook entrena el model `DWTFormer` sobre el dataset `PathMNIST` i avalua el seu rendiment amb mètriques com l’accuracy, F1-score, matriu de confusió i corba ROC."
   ]
  },
  {
   "cell_type": "code",
   "execution_count": null,
   "metadata": {},
   "outputs": [],
   "source": [
    "import torch\n",
    "import torch.nn as nn\n",
    "import torch.optim as optim\n",
    "import matplotlib.pyplot as plt\n",
    "import os\n",
    "\n",
    "from src.data.dataset_loader import load_medmnist_dataset\n",
    "from src.model.dwtformer import DWTFormer\n",
    "from src.train.train_model import train\n",
    "from src.train.evaluate import (\n",
    "    evaluate_model,\n",
    "    print_f1_per_class,\n",
    "    plot_confusion,\n",
    "    plot_multiclass_roc\n",
    ")\n",
    "\n",
    "# 🔧 Paràmetres globals\n",
    "BATCH_SIZE = 128\n",
    "NUM_EPOCHS = 10\n",
    "LEARNING_RATE = 1e-4\n",
    "DEVICE = torch.device(\"cuda\" if torch.cuda.is_available() else \"cpu\")\n",
    "\n",
    "NUM_CLASSES = {\n",
    "    \"pathmnist\": 9,\n",
    "    \"chestmnist\": 14,\n",
    "    \"organamnist\": 11\n",
    "}\n",
    "DATASETS = [\"pathmnist\", \"chestmnist\", \"organamnist\"]\n"
   ]
  },
  {
   "cell_type": "code",
   "execution_count": null,
   "metadata": {},
   "outputs": [],
   "source": [
    "os.makedirs(\"model\", exist_ok=True)\n",
    "for ds in DATASETS:\n",
    "    os.makedirs(f\"annexos/metrics/{ds}\", exist_ok=True)\n"
   ]
  },
  {
   "cell_type": "code",
   "execution_count": null,
   "metadata": {},
   "outputs": [],
   "source": [
    "# 🔁 Entrenament complet per a cada dataset\n",
    "for dataset in DATASETS:\n",
    "    print(f\"\\n📁 Processant {dataset.upper()}\")\n",
    "\n",
    "    if dataset == \"chestmnist\":\n",
    "        criterion = nn.BCEWithLogitsLoss()\n",
    "        multilabel = True\n",
    "    else:\n",
    "        criterion = nn.CrossEntropyLoss()\n",
    "        multilabel = False\n",
    "\n",
    "    train_loader, val_loader, test_loader = load_medmnist_dataset(dataset, batch_size=BATCH_SIZE)\n",
    "    model = DWTFormer(num_classes=NUM_CLASSES[dataset]).to(DEVICE)\n",
    "    optimizer = optim.Adam(model.parameters(), lr=LEARNING_RATE)\n",
    "\n",
    "    print(f\"🔍 Dataset: {dataset} | Multilabel: {multilabel} | Loss: {type(criterion).__name__}\")\n",
    "\n",
    "    history = train(\n",
    "        model, train_loader, val_loader, criterion, optimizer,\n",
    "        num_epochs=NUM_EPOCHS,\n",
    "        device=DEVICE,\n",
    "        save_path=f\"model/dwtformer_{dataset}.pt\",\n",
    "        multilabel=multilabel\n",
    "    )\n",
    "\n",
    "    # 🧪 Avaluació\n",
    "    test_loss, y_true, y_pred, y_scores = evaluate_model(\n",
    "        model, test_loader, criterion, DEVICE, multilabel=multilabel\n",
    "    )\n",
    "\n",
    "    print(f\"\\n📊 Resultats per {dataset.upper()}\")\n",
    "    print(f\"Test Loss: {test_loss:.4f}\")\n",
    "    print_f1_per_class(y_true, y_pred, class_names=[str(i) for i in range(NUM_CLASSES[dataset])])\n",
    "\n",
    "    # 📊 Visualització només per multiclasse\n",
    "    if not multilabel:\n",
    "        fig1 = plt.figure()\n",
    "        plot_confusion(y_true, y_pred, class_names=[str(i) for i in range(NUM_CLASSES[dataset])])\n",
    "        fig1.savefig(f\"annexos/metrics/{dataset}/confusion_matrix.png\")\n",
    "        plt.close(fig1)\n",
    "\n",
    "        fig2 = plt.figure()\n",
    "        plot_multiclass_roc(\n",
    "            y_true, y_scores,\n",
    "            n_classes=NUM_CLASSES[dataset],\n",
    "            class_names=[str(i) for i in range(NUM_CLASSES[dataset])]\n",
    "        )\n",
    "        fig2.savefig(f\"annexos/metrics/{dataset}/roc_curve_multiclass.png\")\n",
    "        plt.close(fig2)\n",
    "\n",
    "    print(f\"✅ Resultats guardats per {dataset}\")"
   ]
  }
 ],
 "metadata": {
  "kernelspec": {
   "display_name": ".venv",
   "language": "python",
   "name": "python3"
  },
  "language_info": {
   "codemirror_mode": {
    "name": "ipython",
    "version": 3
   },
   "file_extension": ".py",
   "mimetype": "text/x-python",
   "name": "python",
   "nbconvert_exporter": "python",
   "pygments_lexer": "ipython3",
   "version": "3.9.13"
  }
 },
 "nbformat": 4,
 "nbformat_minor": 2
}
